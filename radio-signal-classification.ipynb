{
  "nbformat": 4,
  "nbformat_minor": 0,
  "metadata": {
    "colab": {
      "name": "radio-signal-classification.ipynb",
      "provenance": [],
      "collapsed_sections": [],
      "toc_visible": true
    },
    "kernelspec": {
      "name": "python3",
      "display_name": "Python 3"
    }
  },
  "cells": [
    {
      "cell_type": "markdown",
      "metadata": {
        "id": "KeHZOb76Eoao",
        "colab_type": "text"
      },
      "source": [
        "## Classify Radio Signals from Space using Keras\n",
        "\n",
        "In this experiment, we attempt to classify radio signals from space.\n",
        "\n",
        "Dataset has been provided by SETI. Details can be found here:\n",
        "https://github.com/setiQuest/ML4SETI/blob/master/tutorials/Step_1_Get_Data.ipynb\n"
      ]
    },
    {
      "cell_type": "markdown",
      "metadata": {
        "id": "fB2voc0SFB0W",
        "colab_type": "text"
      },
      "source": [
        "## Import necessary libraries"
      ]
    },
    {
      "cell_type": "code",
      "metadata": {
        "id": "2pO03vSBEc6D",
        "colab_type": "code",
        "colab": {
          "base_uri": "https://localhost:8080/",
          "height": 71
        },
        "outputId": "a183b426-26d5-4597-fd32-468201205fa8"
      },
      "source": [
        "import pandas as pd\n",
        "import numpy as np\n",
        "import matplotlib.pyplot as plt\n",
        "from sklearn import metrics\n",
        "import seaborn as sns\n",
        "import tensorflow as tf\n",
        "\n",
        "%matplotlib inline"
      ],
      "execution_count": null,
      "outputs": [
        {
          "output_type": "stream",
          "text": [
            "/usr/local/lib/python3.6/dist-packages/statsmodels/tools/_testing.py:19: FutureWarning: pandas.util.testing is deprecated. Use the functions in the public API at pandas.testing instead.\n",
            "  import pandas.util.testing as tm\n"
          ],
          "name": "stderr"
        }
      ]
    },
    {
      "cell_type": "code",
      "metadata": {
        "id": "pO7IUNsSJhoR",
        "colab_type": "code",
        "colab": {
          "base_uri": "https://localhost:8080/",
          "height": 173
        },
        "outputId": "67a15fd6-05f8-4630-b95f-b644ace383c2"
      },
      "source": [
        "# Mount google drive to get data\n",
        "from google.colab import drive\n",
        "drive.mount('/content/drive')\n",
        "\n",
        "!ls -l '/content/drive/My Drive/datasets/seti'"
      ],
      "execution_count": null,
      "outputs": [
        {
          "output_type": "stream",
          "text": [
            "Go to this URL in a browser: https://accounts.google.com/o/oauth2/auth?client_id=947318989803-6bn6qk8qdgf4n4g3pfee6491hc0brc4i.apps.googleusercontent.com&redirect_uri=urn%3aietf%3awg%3aoauth%3a2.0%3aoob&scope=email%20https%3a%2f%2fwww.googleapis.com%2fauth%2fdocs.test%20https%3a%2f%2fwww.googleapis.com%2fauth%2fdrive%20https%3a%2f%2fwww.googleapis.com%2fauth%2fdrive.photos.readonly%20https%3a%2f%2fwww.googleapis.com%2fauth%2fpeopleapi.readonly&response_type=code\n",
            "\n",
            "Enter your authorization code:\n",
            "··········\n",
            "Mounted at /content/drive\n",
            "total 8\n",
            "drwx------ 2 root root 4096 Aug 20 18:37 train\n",
            "drwx------ 2 root root 4096 Aug 20 18:37 validation\n"
          ],
          "name": "stdout"
        }
      ]
    },
    {
      "cell_type": "markdown",
      "metadata": {
        "id": "lYt4AvyeFJPn",
        "colab_type": "text"
      },
      "source": [
        "## Load data"
      ]
    },
    {
      "cell_type": "code",
      "metadata": {
        "id": "oDubuBkZEgaE",
        "colab_type": "code",
        "colab": {}
      },
      "source": [
        "# Load dataset from CSV\n",
        "train_images = pd.read_csv('/content/drive/My Drive/datasets/seti/train/images.csv', header=None)\n",
        "train_labels = pd.read_csv('/content/drive/My Drive/datasets/seti/train/labels.csv', header=None)\n",
        "val_images = pd.read_csv('/content/drive/My Drive/datasets/seti/validation/images.csv', header=None)\n",
        "val_labels = pd.read_csv('/content/drive/My Drive/datasets/seti/validation/labels.csv', header=None)"
      ],
      "execution_count": null,
      "outputs": []
    },
    {
      "cell_type": "code",
      "metadata": {
        "id": "VVISghQ3Egcd",
        "colab_type": "code",
        "colab": {
          "base_uri": "https://localhost:8080/",
          "height": 253
        },
        "outputId": "e6c8160d-a178-43cc-8595-529a040e5d27"
      },
      "source": [
        "train_images.head()"
      ],
      "execution_count": null,
      "outputs": [
        {
          "output_type": "execute_result",
          "data": {
            "text/html": [
              "<div>\n",
              "<style scoped>\n",
              "    .dataframe tbody tr th:only-of-type {\n",
              "        vertical-align: middle;\n",
              "    }\n",
              "\n",
              "    .dataframe tbody tr th {\n",
              "        vertical-align: top;\n",
              "    }\n",
              "\n",
              "    .dataframe thead th {\n",
              "        text-align: right;\n",
              "    }\n",
              "</style>\n",
              "<table border=\"1\" class=\"dataframe\">\n",
              "  <thead>\n",
              "    <tr style=\"text-align: right;\">\n",
              "      <th></th>\n",
              "      <th>0</th>\n",
              "      <th>1</th>\n",
              "      <th>2</th>\n",
              "      <th>3</th>\n",
              "      <th>4</th>\n",
              "      <th>5</th>\n",
              "      <th>6</th>\n",
              "      <th>7</th>\n",
              "      <th>8</th>\n",
              "      <th>9</th>\n",
              "      <th>10</th>\n",
              "      <th>11</th>\n",
              "      <th>12</th>\n",
              "      <th>13</th>\n",
              "      <th>14</th>\n",
              "      <th>15</th>\n",
              "      <th>16</th>\n",
              "      <th>17</th>\n",
              "      <th>18</th>\n",
              "      <th>19</th>\n",
              "      <th>20</th>\n",
              "      <th>21</th>\n",
              "      <th>22</th>\n",
              "      <th>23</th>\n",
              "      <th>24</th>\n",
              "      <th>25</th>\n",
              "      <th>26</th>\n",
              "      <th>27</th>\n",
              "      <th>28</th>\n",
              "      <th>29</th>\n",
              "      <th>30</th>\n",
              "      <th>31</th>\n",
              "      <th>32</th>\n",
              "      <th>33</th>\n",
              "      <th>34</th>\n",
              "      <th>35</th>\n",
              "      <th>36</th>\n",
              "      <th>37</th>\n",
              "      <th>38</th>\n",
              "      <th>39</th>\n",
              "      <th>...</th>\n",
              "      <th>8152</th>\n",
              "      <th>8153</th>\n",
              "      <th>8154</th>\n",
              "      <th>8155</th>\n",
              "      <th>8156</th>\n",
              "      <th>8157</th>\n",
              "      <th>8158</th>\n",
              "      <th>8159</th>\n",
              "      <th>8160</th>\n",
              "      <th>8161</th>\n",
              "      <th>8162</th>\n",
              "      <th>8163</th>\n",
              "      <th>8164</th>\n",
              "      <th>8165</th>\n",
              "      <th>8166</th>\n",
              "      <th>8167</th>\n",
              "      <th>8168</th>\n",
              "      <th>8169</th>\n",
              "      <th>8170</th>\n",
              "      <th>8171</th>\n",
              "      <th>8172</th>\n",
              "      <th>8173</th>\n",
              "      <th>8174</th>\n",
              "      <th>8175</th>\n",
              "      <th>8176</th>\n",
              "      <th>8177</th>\n",
              "      <th>8178</th>\n",
              "      <th>8179</th>\n",
              "      <th>8180</th>\n",
              "      <th>8181</th>\n",
              "      <th>8182</th>\n",
              "      <th>8183</th>\n",
              "      <th>8184</th>\n",
              "      <th>8185</th>\n",
              "      <th>8186</th>\n",
              "      <th>8187</th>\n",
              "      <th>8188</th>\n",
              "      <th>8189</th>\n",
              "      <th>8190</th>\n",
              "      <th>8191</th>\n",
              "    </tr>\n",
              "  </thead>\n",
              "  <tbody>\n",
              "    <tr>\n",
              "      <th>0</th>\n",
              "      <td>0.631373</td>\n",
              "      <td>0.623529</td>\n",
              "      <td>0.713726</td>\n",
              "      <td>0.705882</td>\n",
              "      <td>0.658824</td>\n",
              "      <td>0.666667</td>\n",
              "      <td>0.654902</td>\n",
              "      <td>0.635294</td>\n",
              "      <td>0.647059</td>\n",
              "      <td>0.705882</td>\n",
              "      <td>0.729412</td>\n",
              "      <td>0.725490</td>\n",
              "      <td>0.619608</td>\n",
              "      <td>0.674510</td>\n",
              "      <td>0.643137</td>\n",
              "      <td>0.705882</td>\n",
              "      <td>0.713726</td>\n",
              "      <td>0.658824</td>\n",
              "      <td>0.615686</td>\n",
              "      <td>0.690196</td>\n",
              "      <td>0.654902</td>\n",
              "      <td>0.525490</td>\n",
              "      <td>0.556863</td>\n",
              "      <td>0.541176</td>\n",
              "      <td>0.482353</td>\n",
              "      <td>0.588235</td>\n",
              "      <td>0.615686</td>\n",
              "      <td>0.600000</td>\n",
              "      <td>0.603922</td>\n",
              "      <td>0.627451</td>\n",
              "      <td>0.678431</td>\n",
              "      <td>0.658824</td>\n",
              "      <td>0.698039</td>\n",
              "      <td>0.576471</td>\n",
              "      <td>0.678431</td>\n",
              "      <td>0.686275</td>\n",
              "      <td>0.690196</td>\n",
              "      <td>0.705882</td>\n",
              "      <td>0.705882</td>\n",
              "      <td>0.643137</td>\n",
              "      <td>...</td>\n",
              "      <td>0.650980</td>\n",
              "      <td>0.666667</td>\n",
              "      <td>0.666667</td>\n",
              "      <td>0.709804</td>\n",
              "      <td>0.682353</td>\n",
              "      <td>0.682353</td>\n",
              "      <td>0.682353</td>\n",
              "      <td>0.658824</td>\n",
              "      <td>0.682353</td>\n",
              "      <td>0.643137</td>\n",
              "      <td>0.627451</td>\n",
              "      <td>0.623529</td>\n",
              "      <td>0.650980</td>\n",
              "      <td>0.721569</td>\n",
              "      <td>0.627451</td>\n",
              "      <td>0.635294</td>\n",
              "      <td>0.709804</td>\n",
              "      <td>0.690196</td>\n",
              "      <td>0.678431</td>\n",
              "      <td>0.647059</td>\n",
              "      <td>0.658824</td>\n",
              "      <td>0.682353</td>\n",
              "      <td>0.654902</td>\n",
              "      <td>0.694118</td>\n",
              "      <td>0.741176</td>\n",
              "      <td>0.678431</td>\n",
              "      <td>0.662745</td>\n",
              "      <td>0.729412</td>\n",
              "      <td>0.694118</td>\n",
              "      <td>0.647059</td>\n",
              "      <td>0.682353</td>\n",
              "      <td>0.611765</td>\n",
              "      <td>0.650980</td>\n",
              "      <td>0.658824</td>\n",
              "      <td>0.600000</td>\n",
              "      <td>0.603922</td>\n",
              "      <td>0.654902</td>\n",
              "      <td>0.694118</td>\n",
              "      <td>0.658824</td>\n",
              "      <td>0.666667</td>\n",
              "    </tr>\n",
              "    <tr>\n",
              "      <th>1</th>\n",
              "      <td>0.725490</td>\n",
              "      <td>0.752941</td>\n",
              "      <td>0.749020</td>\n",
              "      <td>0.701961</td>\n",
              "      <td>0.690196</td>\n",
              "      <td>0.721569</td>\n",
              "      <td>0.709804</td>\n",
              "      <td>0.745098</td>\n",
              "      <td>0.654902</td>\n",
              "      <td>0.721569</td>\n",
              "      <td>0.678431</td>\n",
              "      <td>0.709804</td>\n",
              "      <td>0.713726</td>\n",
              "      <td>0.686275</td>\n",
              "      <td>0.717647</td>\n",
              "      <td>0.713726</td>\n",
              "      <td>0.694118</td>\n",
              "      <td>0.690196</td>\n",
              "      <td>0.721569</td>\n",
              "      <td>0.701961</td>\n",
              "      <td>0.698039</td>\n",
              "      <td>0.713726</td>\n",
              "      <td>0.705882</td>\n",
              "      <td>0.756863</td>\n",
              "      <td>0.756863</td>\n",
              "      <td>0.694118</td>\n",
              "      <td>0.650980</td>\n",
              "      <td>0.674510</td>\n",
              "      <td>0.752941</td>\n",
              "      <td>0.725490</td>\n",
              "      <td>0.725490</td>\n",
              "      <td>0.760784</td>\n",
              "      <td>0.678431</td>\n",
              "      <td>0.717647</td>\n",
              "      <td>0.725490</td>\n",
              "      <td>0.682353</td>\n",
              "      <td>0.709804</td>\n",
              "      <td>0.729412</td>\n",
              "      <td>0.721569</td>\n",
              "      <td>0.717647</td>\n",
              "      <td>...</td>\n",
              "      <td>0.686275</td>\n",
              "      <td>0.670588</td>\n",
              "      <td>0.713726</td>\n",
              "      <td>0.733333</td>\n",
              "      <td>0.725490</td>\n",
              "      <td>0.694118</td>\n",
              "      <td>0.694118</td>\n",
              "      <td>0.686275</td>\n",
              "      <td>0.674510</td>\n",
              "      <td>0.729412</td>\n",
              "      <td>0.721569</td>\n",
              "      <td>0.701961</td>\n",
              "      <td>0.682353</td>\n",
              "      <td>0.709804</td>\n",
              "      <td>0.756863</td>\n",
              "      <td>0.698039</td>\n",
              "      <td>0.729412</td>\n",
              "      <td>0.721569</td>\n",
              "      <td>0.674510</td>\n",
              "      <td>0.698039</td>\n",
              "      <td>0.725490</td>\n",
              "      <td>0.733333</td>\n",
              "      <td>0.666667</td>\n",
              "      <td>0.682353</td>\n",
              "      <td>0.701961</td>\n",
              "      <td>0.737255</td>\n",
              "      <td>0.745098</td>\n",
              "      <td>0.725490</td>\n",
              "      <td>0.698039</td>\n",
              "      <td>0.650980</td>\n",
              "      <td>0.721569</td>\n",
              "      <td>0.698039</td>\n",
              "      <td>0.721569</td>\n",
              "      <td>0.686275</td>\n",
              "      <td>0.713726</td>\n",
              "      <td>0.682353</td>\n",
              "      <td>0.690196</td>\n",
              "      <td>0.698039</td>\n",
              "      <td>0.701961</td>\n",
              "      <td>0.725490</td>\n",
              "    </tr>\n",
              "    <tr>\n",
              "      <th>2</th>\n",
              "      <td>0.717647</td>\n",
              "      <td>0.701961</td>\n",
              "      <td>0.713726</td>\n",
              "      <td>0.733333</td>\n",
              "      <td>0.705882</td>\n",
              "      <td>0.717647</td>\n",
              "      <td>0.725490</td>\n",
              "      <td>0.682353</td>\n",
              "      <td>0.717647</td>\n",
              "      <td>0.674510</td>\n",
              "      <td>0.690196</td>\n",
              "      <td>0.670588</td>\n",
              "      <td>0.662745</td>\n",
              "      <td>0.666667</td>\n",
              "      <td>0.713726</td>\n",
              "      <td>0.701961</td>\n",
              "      <td>0.721569</td>\n",
              "      <td>0.713726</td>\n",
              "      <td>0.662745</td>\n",
              "      <td>0.698039</td>\n",
              "      <td>0.682353</td>\n",
              "      <td>0.639216</td>\n",
              "      <td>0.717647</td>\n",
              "      <td>0.658824</td>\n",
              "      <td>0.674510</td>\n",
              "      <td>0.639216</td>\n",
              "      <td>0.643137</td>\n",
              "      <td>0.635294</td>\n",
              "      <td>0.654902</td>\n",
              "      <td>0.682353</td>\n",
              "      <td>0.639216</td>\n",
              "      <td>0.733333</td>\n",
              "      <td>0.690196</td>\n",
              "      <td>0.658824</td>\n",
              "      <td>0.686275</td>\n",
              "      <td>0.658824</td>\n",
              "      <td>0.690196</td>\n",
              "      <td>0.698039</td>\n",
              "      <td>0.709804</td>\n",
              "      <td>0.650980</td>\n",
              "      <td>...</td>\n",
              "      <td>0.533333</td>\n",
              "      <td>0.572549</td>\n",
              "      <td>0.537255</td>\n",
              "      <td>0.549020</td>\n",
              "      <td>0.670588</td>\n",
              "      <td>0.690196</td>\n",
              "      <td>0.670588</td>\n",
              "      <td>0.643137</td>\n",
              "      <td>0.662745</td>\n",
              "      <td>0.713726</td>\n",
              "      <td>0.717647</td>\n",
              "      <td>0.721569</td>\n",
              "      <td>0.709804</td>\n",
              "      <td>0.674510</td>\n",
              "      <td>0.709804</td>\n",
              "      <td>0.686275</td>\n",
              "      <td>0.658824</td>\n",
              "      <td>0.694118</td>\n",
              "      <td>0.698039</td>\n",
              "      <td>0.694118</td>\n",
              "      <td>0.678431</td>\n",
              "      <td>0.678431</td>\n",
              "      <td>0.690196</td>\n",
              "      <td>0.662745</td>\n",
              "      <td>0.650980</td>\n",
              "      <td>0.650980</td>\n",
              "      <td>0.686275</td>\n",
              "      <td>0.631373</td>\n",
              "      <td>0.666667</td>\n",
              "      <td>0.701961</td>\n",
              "      <td>0.709804</td>\n",
              "      <td>0.694118</td>\n",
              "      <td>0.705882</td>\n",
              "      <td>0.682353</td>\n",
              "      <td>0.639216</td>\n",
              "      <td>0.713726</td>\n",
              "      <td>0.670588</td>\n",
              "      <td>0.678431</td>\n",
              "      <td>0.737255</td>\n",
              "      <td>0.674510</td>\n",
              "    </tr>\n",
              "    <tr>\n",
              "      <th>3</th>\n",
              "      <td>0.705882</td>\n",
              "      <td>0.674510</td>\n",
              "      <td>0.654902</td>\n",
              "      <td>0.678431</td>\n",
              "      <td>0.666667</td>\n",
              "      <td>0.662745</td>\n",
              "      <td>0.678431</td>\n",
              "      <td>0.662745</td>\n",
              "      <td>0.686275</td>\n",
              "      <td>0.686275</td>\n",
              "      <td>0.631373</td>\n",
              "      <td>0.650980</td>\n",
              "      <td>0.670588</td>\n",
              "      <td>0.737255</td>\n",
              "      <td>0.674510</td>\n",
              "      <td>0.615686</td>\n",
              "      <td>0.670588</td>\n",
              "      <td>0.705882</td>\n",
              "      <td>0.686275</td>\n",
              "      <td>0.678431</td>\n",
              "      <td>0.694118</td>\n",
              "      <td>0.647059</td>\n",
              "      <td>0.662745</td>\n",
              "      <td>0.682353</td>\n",
              "      <td>0.654902</td>\n",
              "      <td>0.721569</td>\n",
              "      <td>0.709804</td>\n",
              "      <td>0.631373</td>\n",
              "      <td>0.670588</td>\n",
              "      <td>0.674510</td>\n",
              "      <td>0.701961</td>\n",
              "      <td>0.725490</td>\n",
              "      <td>0.666667</td>\n",
              "      <td>0.647059</td>\n",
              "      <td>0.733333</td>\n",
              "      <td>0.682353</td>\n",
              "      <td>0.678431</td>\n",
              "      <td>0.603922</td>\n",
              "      <td>0.666667</td>\n",
              "      <td>0.713726</td>\n",
              "      <td>...</td>\n",
              "      <td>0.670588</td>\n",
              "      <td>0.705882</td>\n",
              "      <td>0.749020</td>\n",
              "      <td>0.662745</td>\n",
              "      <td>0.564706</td>\n",
              "      <td>0.623529</td>\n",
              "      <td>0.674510</td>\n",
              "      <td>0.709804</td>\n",
              "      <td>0.658824</td>\n",
              "      <td>0.631373</td>\n",
              "      <td>0.705882</td>\n",
              "      <td>0.670588</td>\n",
              "      <td>0.658824</td>\n",
              "      <td>0.690196</td>\n",
              "      <td>0.674510</td>\n",
              "      <td>0.658824</td>\n",
              "      <td>0.635294</td>\n",
              "      <td>0.682353</td>\n",
              "      <td>0.682353</td>\n",
              "      <td>0.639216</td>\n",
              "      <td>0.666667</td>\n",
              "      <td>0.654902</td>\n",
              "      <td>0.647059</td>\n",
              "      <td>0.670588</td>\n",
              "      <td>0.682353</td>\n",
              "      <td>0.639216</td>\n",
              "      <td>0.705882</td>\n",
              "      <td>0.729412</td>\n",
              "      <td>0.674510</td>\n",
              "      <td>0.666667</td>\n",
              "      <td>0.639216</td>\n",
              "      <td>0.662745</td>\n",
              "      <td>0.631373</td>\n",
              "      <td>0.643137</td>\n",
              "      <td>0.705882</td>\n",
              "      <td>0.662745</td>\n",
              "      <td>0.705882</td>\n",
              "      <td>0.666667</td>\n",
              "      <td>0.654902</td>\n",
              "      <td>0.631373</td>\n",
              "    </tr>\n",
              "    <tr>\n",
              "      <th>4</th>\n",
              "      <td>0.647059</td>\n",
              "      <td>0.729412</td>\n",
              "      <td>0.701961</td>\n",
              "      <td>0.674510</td>\n",
              "      <td>0.611765</td>\n",
              "      <td>0.698039</td>\n",
              "      <td>0.713726</td>\n",
              "      <td>0.662745</td>\n",
              "      <td>0.701961</td>\n",
              "      <td>0.674510</td>\n",
              "      <td>0.631373</td>\n",
              "      <td>0.709804</td>\n",
              "      <td>0.694118</td>\n",
              "      <td>0.698039</td>\n",
              "      <td>0.666667</td>\n",
              "      <td>0.690196</td>\n",
              "      <td>0.690196</td>\n",
              "      <td>0.682353</td>\n",
              "      <td>0.682353</td>\n",
              "      <td>0.647059</td>\n",
              "      <td>0.678431</td>\n",
              "      <td>0.658824</td>\n",
              "      <td>0.760784</td>\n",
              "      <td>0.729412</td>\n",
              "      <td>0.674510</td>\n",
              "      <td>0.694118</td>\n",
              "      <td>0.698039</td>\n",
              "      <td>0.713726</td>\n",
              "      <td>0.690196</td>\n",
              "      <td>0.698039</td>\n",
              "      <td>0.686275</td>\n",
              "      <td>0.705882</td>\n",
              "      <td>0.662745</td>\n",
              "      <td>0.670588</td>\n",
              "      <td>0.705882</td>\n",
              "      <td>0.682353</td>\n",
              "      <td>0.690196</td>\n",
              "      <td>0.733333</td>\n",
              "      <td>0.709804</td>\n",
              "      <td>0.701961</td>\n",
              "      <td>...</td>\n",
              "      <td>0.639216</td>\n",
              "      <td>0.690196</td>\n",
              "      <td>0.662745</td>\n",
              "      <td>0.658824</td>\n",
              "      <td>0.662745</td>\n",
              "      <td>0.698039</td>\n",
              "      <td>0.603922</td>\n",
              "      <td>0.690196</td>\n",
              "      <td>0.627451</td>\n",
              "      <td>0.627451</td>\n",
              "      <td>0.654902</td>\n",
              "      <td>0.725490</td>\n",
              "      <td>0.650980</td>\n",
              "      <td>0.717647</td>\n",
              "      <td>0.666667</td>\n",
              "      <td>0.709804</td>\n",
              "      <td>0.682353</td>\n",
              "      <td>0.674510</td>\n",
              "      <td>0.721569</td>\n",
              "      <td>0.741176</td>\n",
              "      <td>0.635294</td>\n",
              "      <td>0.615686</td>\n",
              "      <td>0.674510</td>\n",
              "      <td>0.690196</td>\n",
              "      <td>0.658824</td>\n",
              "      <td>0.694118</td>\n",
              "      <td>0.701961</td>\n",
              "      <td>0.670588</td>\n",
              "      <td>0.721569</td>\n",
              "      <td>0.780392</td>\n",
              "      <td>0.639216</td>\n",
              "      <td>0.670588</td>\n",
              "      <td>0.705882</td>\n",
              "      <td>0.674510</td>\n",
              "      <td>0.721569</td>\n",
              "      <td>0.694118</td>\n",
              "      <td>0.674510</td>\n",
              "      <td>0.705882</td>\n",
              "      <td>0.749020</td>\n",
              "      <td>0.729412</td>\n",
              "    </tr>\n",
              "  </tbody>\n",
              "</table>\n",
              "<p>5 rows × 8192 columns</p>\n",
              "</div>"
            ],
            "text/plain": [
              "       0         1         2     ...      8189      8190      8191\n",
              "0  0.631373  0.623529  0.713726  ...  0.694118  0.658824  0.666667\n",
              "1  0.725490  0.752941  0.749020  ...  0.698039  0.701961  0.725490\n",
              "2  0.717647  0.701961  0.713726  ...  0.678431  0.737255  0.674510\n",
              "3  0.705882  0.674510  0.654902  ...  0.666667  0.654902  0.631373\n",
              "4  0.647059  0.729412  0.701961  ...  0.705882  0.749020  0.729412\n",
              "\n",
              "[5 rows x 8192 columns]"
            ]
          },
          "metadata": {
            "tags": []
          },
          "execution_count": 4
        }
      ]
    },
    {
      "cell_type": "code",
      "metadata": {
        "id": "BCQy-0ZsEgfa",
        "colab_type": "code",
        "colab": {
          "base_uri": "https://localhost:8080/",
          "height": 204
        },
        "outputId": "8aa67d08-ff77-4445-8e57-97941c87a050"
      },
      "source": [
        "train_labels.head()"
      ],
      "execution_count": null,
      "outputs": [
        {
          "output_type": "execute_result",
          "data": {
            "text/html": [
              "<div>\n",
              "<style scoped>\n",
              "    .dataframe tbody tr th:only-of-type {\n",
              "        vertical-align: middle;\n",
              "    }\n",
              "\n",
              "    .dataframe tbody tr th {\n",
              "        vertical-align: top;\n",
              "    }\n",
              "\n",
              "    .dataframe thead th {\n",
              "        text-align: right;\n",
              "    }\n",
              "</style>\n",
              "<table border=\"1\" class=\"dataframe\">\n",
              "  <thead>\n",
              "    <tr style=\"text-align: right;\">\n",
              "      <th></th>\n",
              "      <th>0</th>\n",
              "      <th>1</th>\n",
              "      <th>2</th>\n",
              "      <th>3</th>\n",
              "    </tr>\n",
              "  </thead>\n",
              "  <tbody>\n",
              "    <tr>\n",
              "      <th>0</th>\n",
              "      <td>1.0</td>\n",
              "      <td>0.0</td>\n",
              "      <td>0.0</td>\n",
              "      <td>0.0</td>\n",
              "    </tr>\n",
              "    <tr>\n",
              "      <th>1</th>\n",
              "      <td>1.0</td>\n",
              "      <td>0.0</td>\n",
              "      <td>0.0</td>\n",
              "      <td>0.0</td>\n",
              "    </tr>\n",
              "    <tr>\n",
              "      <th>2</th>\n",
              "      <td>1.0</td>\n",
              "      <td>0.0</td>\n",
              "      <td>0.0</td>\n",
              "      <td>0.0</td>\n",
              "    </tr>\n",
              "    <tr>\n",
              "      <th>3</th>\n",
              "      <td>1.0</td>\n",
              "      <td>0.0</td>\n",
              "      <td>0.0</td>\n",
              "      <td>0.0</td>\n",
              "    </tr>\n",
              "    <tr>\n",
              "      <th>4</th>\n",
              "      <td>1.0</td>\n",
              "      <td>0.0</td>\n",
              "      <td>0.0</td>\n",
              "      <td>0.0</td>\n",
              "    </tr>\n",
              "  </tbody>\n",
              "</table>\n",
              "</div>"
            ],
            "text/plain": [
              "     0    1    2    3\n",
              "0  1.0  0.0  0.0  0.0\n",
              "1  1.0  0.0  0.0  0.0\n",
              "2  1.0  0.0  0.0  0.0\n",
              "3  1.0  0.0  0.0  0.0\n",
              "4  1.0  0.0  0.0  0.0"
            ]
          },
          "metadata": {
            "tags": []
          },
          "execution_count": 5
        }
      ]
    },
    {
      "cell_type": "code",
      "metadata": {
        "id": "DfJSg_p8Egh4",
        "colab_type": "code",
        "colab": {
          "base_uri": "https://localhost:8080/",
          "height": 85
        },
        "outputId": "6a3e4865-56f3-4d11-e514-0862d9cefe3b"
      },
      "source": [
        "# Check shape of train_images, train_labels, val_images nad val_labels\n",
        "\n",
        "print(\"train_images shape:\", train_images.shape)\n",
        "print(\"train_labels shape:\", train_labels.shape)\n",
        "\n",
        "print(\"val_images shape:\", val_images.shape)\n",
        "print(\"val_labels shape:\", val_labels.shape)"
      ],
      "execution_count": null,
      "outputs": [
        {
          "output_type": "stream",
          "text": [
            "train_images shape: (3200, 8192)\n",
            "train_labels shape: (3200, 4)\n",
            "val_images shape: (800, 8192)\n",
            "val_labels shape: (800, 4)\n"
          ],
          "name": "stdout"
        }
      ]
    },
    {
      "cell_type": "code",
      "metadata": {
        "id": "FJGhlNb2Egj7",
        "colab_type": "code",
        "colab": {}
      },
      "source": [
        "# Reshape the image sets\n",
        "# Get the values as numpy array\n",
        "\n",
        "x_train = train_images.values.reshape(3200, 64, 128, 1)\n",
        "x_val = val_images.values.reshape(800, 64, 128, 1)\n",
        "\n",
        "y_train = train_labels.values\n",
        "y_val = val_labels.values"
      ],
      "execution_count": null,
      "outputs": []
    },
    {
      "cell_type": "markdown",
      "metadata": {
        "id": "pAC1DPXrF8oS",
        "colab_type": "text"
      },
      "source": [
        "## Plot 2D spectrogram data"
      ]
    },
    {
      "cell_type": "code",
      "metadata": {
        "id": "PTOmtFOaEgpN",
        "colab_type": "code",
        "colab": {
          "base_uri": "https://localhost:8080/",
          "height": 174
        },
        "outputId": "3c6921e0-7c3b-4381-b924-1914daedc040"
      },
      "source": [
        "plt.figure(figsize=(15,15))\n",
        "\n",
        "for i in range(1,4):\n",
        "    plt.subplot(1,3,i)\n",
        "    img = np.squeeze(x_train[np.random.randint(x_train.shape[0])])\n",
        "    plt.imshow(img, cmap='gray')"
      ],
      "execution_count": null,
      "outputs": [
        {
          "output_type": "display_data",
          "data": {
            "image/png": "[encoded data removed]",
            "text/plain": [
              "<Figure size 1080x1080 with 3 Axes>"
            ]
          },
          "metadata": {
            "tags": [],
            "needs_background": "light"
          }
        }
      ]
    },
    {
      "cell_type": "markdown",
      "metadata": {
        "id": "jqJJhvGkGqz1",
        "colab_type": "text"
      },
      "source": [
        "## Preprocess data"
      ]
    },
    {
      "cell_type": "code",
      "metadata": {
        "id": "tP6I_MnnGwW-",
        "colab_type": "code",
        "colab": {}
      },
      "source": [
        "from tensorflow.keras.preprocessing.image import ImageDataGenerator\n",
        "\n",
        "datagen_train = ImageDataGenerator(horizontal_flip=True)\n",
        "datagen_train.fit(x_train)\n",
        "\n",
        "datagen_val = ImageDataGenerator(horizontal_flip=True)\n",
        "datagen_val.fit(x_val)"
      ],
      "execution_count": null,
      "outputs": []
    },
    {
      "cell_type": "markdown",
      "metadata": {
        "id": "-UEvdu2bHKEQ",
        "colab_type": "text"
      },
      "source": [
        "## Build model"
      ]
    },
    {
      "cell_type": "code",
      "metadata": {
        "id": "tqpC-6NQGwrQ",
        "colab_type": "code",
        "colab": {}
      },
      "source": [
        "from tensorflow.keras.layers import Conv2D, MaxPooling2D, Dense, Flatten\n",
        "from tensorflow.keras.layers import BatchNormalization, Dropout, Activation \n",
        "\n",
        "from tensorflow.keras.models import Sequential\n",
        "from tensorflow.keras.optimizers import Adam"
      ],
      "execution_count": null,
      "outputs": []
    },
    {
      "cell_type": "code",
      "metadata": {
        "id": "h5dB9u7nHqG0",
        "colab_type": "code",
        "colab": {}
      },
      "source": [
        "# Initialize model\n",
        "model = Sequential()\n",
        "\n",
        "# 1st CNN block\n",
        "model.add(Conv2D(32, (5,5), padding='same', input_shape=(64,128,1)))\n",
        "model.add(BatchNormalization())\n",
        "model.add(Activation('relu'))\n",
        "model.add(MaxPooling2D(pool_size=(2,2)))\n",
        "model.add(Dropout(0.25))\n",
        "\n",
        "# 2nd CNN block\n",
        "model.add(Conv2D(64, (5,5), padding='same'))\n",
        "model.add(BatchNormalization())\n",
        "model.add(Activation('relu'))\n",
        "model.add(MaxPooling2D(pool_size=(2,2)))\n",
        "model.add(Dropout(0.25))\n",
        "\n",
        "# Falatter CNN output to feed to FC layer\n",
        "model.add(Flatten())\n",
        "\n",
        "# Fully connected layer\n",
        "model.add(Dense(1024))\n",
        "model.add(BatchNormalization())\n",
        "model.add(Activation('relu'))\n",
        "model.add(Dropout(0.4))\n",
        "\n",
        "# Softmax layer\n",
        "model.add(Dense(4, activation='softmax'))"
      ],
      "execution_count": null,
      "outputs": []
    },
    {
      "cell_type": "markdown",
      "metadata": {
        "id": "LmXdhu-6H7Q5",
        "colab_type": "text"
      },
      "source": [
        "## Compile the model"
      ]
    },
    {
      "cell_type": "code",
      "metadata": {
        "id": "JNEKTceqGwuX",
        "colab_type": "code",
        "colab": {}
      },
      "source": [
        "# Schedule learnning rate decay\n",
        "lr_schedule = tf.keras.optimizers.schedules.ExponentialDecay(\n",
        "    0.005,\n",
        "    decay_steps=5,\n",
        "    decay_rate=0.9,\n",
        "    staircase=True)"
      ],
      "execution_count": null,
      "outputs": []
    },
    {
      "cell_type": "code",
      "metadata": {
        "id": "IZi5V0W7GwxL",
        "colab_type": "code",
        "colab": {
          "base_uri": "https://localhost:8080/",
          "height": 697
        },
        "outputId": "db119e2c-2a61-4af9-fb9e-43969b3627cd"
      },
      "source": [
        "model.compile(optimizer=Adam(lr_schedule), loss='categorical_crossentropy', metrics=['accuracy'])\n",
        "model.summary()"
      ],
      "execution_count": null,
      "outputs": [
        {
          "output_type": "stream",
          "text": [
            "Model: \"sequential\"\n",
            "_________________________________________________________________\n",
            "Layer (type)                 Output Shape              Param #   \n",
            "=================================================================\n",
            "conv2d (Conv2D)              (None, 64, 128, 32)       832       \n",
            "_________________________________________________________________\n",
            "batch_normalization (BatchNo (None, 64, 128, 32)       128       \n",
            "_________________________________________________________________\n",
            "activation (Activation)      (None, 64, 128, 32)       0         \n",
            "_________________________________________________________________\n",
            "max_pooling2d (MaxPooling2D) (None, 32, 64, 32)        0         \n",
            "_________________________________________________________________\n",
            "dropout (Dropout)            (None, 32, 64, 32)        0         \n",
            "_________________________________________________________________\n",
            "conv2d_1 (Conv2D)            (None, 32, 64, 64)        51264     \n",
            "_________________________________________________________________\n",
            "batch_normalization_1 (Batch (None, 32, 64, 64)        256       \n",
            "_________________________________________________________________\n",
            "activation_1 (Activation)    (None, 32, 64, 64)        0         \n",
            "_________________________________________________________________\n",
            "max_pooling2d_1 (MaxPooling2 (None, 16, 32, 64)        0         \n",
            "_________________________________________________________________\n",
            "dropout_1 (Dropout)          (None, 16, 32, 64)        0         \n",
            "_________________________________________________________________\n",
            "flatten (Flatten)            (None, 32768)             0         \n",
            "_________________________________________________________________\n",
            "dense (Dense)                (None, 1024)              33555456  \n",
            "_________________________________________________________________\n",
            "batch_normalization_2 (Batch (None, 1024)              4096      \n",
            "_________________________________________________________________\n",
            "activation_2 (Activation)    (None, 1024)              0         \n",
            "_________________________________________________________________\n",
            "dropout_2 (Dropout)          (None, 1024)              0         \n",
            "_________________________________________________________________\n",
            "dense_1 (Dense)              (None, 4)                 4100      \n",
            "=================================================================\n",
            "Total params: 33,616,132\n",
            "Trainable params: 33,613,892\n",
            "Non-trainable params: 2,240\n",
            "_________________________________________________________________\n"
          ],
          "name": "stdout"
        }
      ]
    },
    {
      "cell_type": "markdown",
      "metadata": {
        "id": "tfqcUL6DIKDR",
        "colab_type": "text"
      },
      "source": [
        "## Train the model"
      ]
    },
    {
      "cell_type": "code",
      "metadata": {
        "id": "1fuvoWEXIQfZ",
        "colab_type": "code",
        "colab": {
          "base_uri": "https://localhost:8080/",
          "height": 377
        },
        "outputId": "676596ab-f73e-4b04-cc9f-578d52321ba5"
      },
      "source": [
        "batch_size = 32\n",
        "history = model.fit(\n",
        "    datagen_train.flow(x_train, y_train, batch_size=batch_size, shuffle=True),\n",
        "    steps_per_epoch=len(x_train)//batch_size,\n",
        "    validation_data = datagen_val.flow(x_val, y_val, batch_size=batch_size, shuffle=True),\n",
        "    validation_steps = len(x_val)//batch_size,\n",
        "    epochs=10,\n",
        ")"
      ],
      "execution_count": null,
      "outputs": [
        {
          "output_type": "stream",
          "text": [
            "Epoch 1/10\n",
            "100/100 [==============================] - 115s 1s/step - loss: 0.5255 - accuracy: 0.7044 - val_loss: 5.4126 - val_accuracy: 0.2500\n",
            "Epoch 2/10\n",
            "100/100 [==============================] - 118s 1s/step - loss: 0.4004 - accuracy: 0.7391 - val_loss: 6.4884 - val_accuracy: 0.2500\n",
            "Epoch 3/10\n",
            "100/100 [==============================] - 115s 1s/step - loss: 0.3882 - accuracy: 0.7412 - val_loss: 5.6150 - val_accuracy: 0.2675\n",
            "Epoch 4/10\n",
            "100/100 [==============================] - 115s 1s/step - loss: 0.3914 - accuracy: 0.7409 - val_loss: 4.6394 - val_accuracy: 0.4913\n",
            "Epoch 5/10\n",
            "100/100 [==============================] - 115s 1s/step - loss: 0.3956 - accuracy: 0.7456 - val_loss: 4.2016 - val_accuracy: 0.5000\n",
            "Epoch 6/10\n",
            "100/100 [==============================] - 114s 1s/step - loss: 0.3904 - accuracy: 0.7416 - val_loss: 3.1053 - val_accuracy: 0.5013\n",
            "Epoch 7/10\n",
            "100/100 [==============================] - 118s 1s/step - loss: 0.3828 - accuracy: 0.7378 - val_loss: 1.6581 - val_accuracy: 0.4963\n",
            "Epoch 8/10\n",
            "100/100 [==============================] - 114s 1s/step - loss: 0.3839 - accuracy: 0.7516 - val_loss: 0.6483 - val_accuracy: 0.6625\n",
            "Epoch 9/10\n",
            "100/100 [==============================] - 114s 1s/step - loss: 0.4086 - accuracy: 0.7347 - val_loss: 0.4419 - val_accuracy: 0.7250\n",
            "Epoch 10/10\n",
            "100/100 [==============================] - 114s 1s/step - loss: 0.4000 - accuracy: 0.7466 - val_loss: 0.4041 - val_accuracy: 0.7400\n"
          ],
          "name": "stdout"
        }
      ]
    },
    {
      "cell_type": "markdown",
      "metadata": {
        "id": "Out7Wpj_Ic-g",
        "colab_type": "text"
      },
      "source": [
        "## Evaluation"
      ]
    },
    {
      "cell_type": "code",
      "metadata": {
        "id": "zyaFllz-IQiD",
        "colab_type": "code",
        "colab": {
          "base_uri": "https://localhost:8080/",
          "height": 295
        },
        "outputId": "192d5492-99fc-4181-f095-9ad3f9f79b07"
      },
      "source": [
        "plt.plot(history.history['accuracy'])\n",
        "plt.plot(history.history['val_accuracy'])\n",
        "plt.title('Model accuracy')\n",
        "plt.ylabel('Accuracy')\n",
        "plt.xlabel('Epoch')\n",
        "plt.legend(['training', 'validation'])\n",
        "plt.show()"
      ],
      "execution_count": null,
      "outputs": [
        {
          "output_type": "display_data",
          "data": {
            "image/png": "[encoded data removed]",
            "text/plain": [
              "<Figure size 432x288 with 1 Axes>"
            ]
          },
          "metadata": {
            "tags": [],
            "needs_background": "light"
          }
        }
      ]
    },
    {
      "cell_type": "code",
      "metadata": {
        "id": "NTr3oyIabEvw",
        "colab_type": "code",
        "colab": {
          "base_uri": "https://localhost:8080/",
          "height": 295
        },
        "outputId": "0d9dd25c-a14d-4b13-fb03-3f14427fda74"
      },
      "source": [
        "plt.plot(history.history['loss'])\n",
        "plt.plot(history.history['val_loss'])\n",
        "plt.title('Model loss')\n",
        "plt.ylabel('Loss')\n",
        "plt.xlabel('Epoch')\n",
        "plt.legend(['training', 'validation'])\n",
        "plt.show()"
      ],
      "execution_count": null,
      "outputs": [
        {
          "output_type": "display_data",
          "data": {
            "image/png": "[encoded data removed]",
            "text/plain": [
              "<Figure size 432x288 with 1 Axes>"
            ]
          },
          "metadata": {
            "tags": [],
            "needs_background": "light"
          }
        }
      ]
    },
    {
      "cell_type": "code",
      "metadata": {
        "id": "MJTxGMVEIdlp",
        "colab_type": "code",
        "colab": {
          "base_uri": "https://localhost:8080/",
          "height": 51
        },
        "outputId": "c9d0f75d-725a-4a1a-d7c6-6c2d7b8500b5"
      },
      "source": [
        "model.evaluate(x_val, y_val)"
      ],
      "execution_count": null,
      "outputs": [
        {
          "output_type": "stream",
          "text": [
            "25/25 [==============================] - 6s 235ms/step - loss: 0.4045 - accuracy: 0.7462\n"
          ],
          "name": "stdout"
        },
        {
          "output_type": "execute_result",
          "data": {
            "text/plain": [
              "[0.4044828712940216, 0.7462499737739563]"
            ]
          },
          "metadata": {
            "tags": []
          },
          "execution_count": 17
        }
      ]
    },
    {
      "cell_type": "code",
      "metadata": {
        "id": "LmgNzJFYIdos",
        "colab_type": "code",
        "colab": {
          "base_uri": "https://localhost:8080/",
          "height": 221
        },
        "outputId": "596fa8f2-479c-48ea-e205-fc74ced179eb"
      },
      "source": [
        "y_true = np.argmax(y_val, 1)\n",
        "y_pred = np.argmax(model.predict(x_val), 1)\n",
        "\n",
        "print(metrics.classification_report(y_true, y_pred))\n",
        "print(\"Classification accuracy: %.2f\" % metrics.accuracy_score(y_true, y_pred))"
      ],
      "execution_count": null,
      "outputs": [
        {
          "output_type": "stream",
          "text": [
            "              precision    recall  f1-score   support\n",
            "\n",
            "           0       1.00      0.95      0.98       200\n",
            "           1       0.50      0.88      0.64       200\n",
            "           2       0.54      0.15      0.23       200\n",
            "           3       1.00      1.00      1.00       200\n",
            "\n",
            "    accuracy                           0.75       800\n",
            "   macro avg       0.76      0.75      0.71       800\n",
            "weighted avg       0.76      0.75      0.71       800\n",
            "\n",
            "Classification accuracy: 0.75\n"
          ],
          "name": "stdout"
        }
      ]
    },
    {
      "cell_type": "code",
      "metadata": {
        "id": "yxaqITweIdr5",
        "colab_type": "code",
        "colab": {
          "base_uri": "https://localhost:8080/",
          "height": 568
        },
        "outputId": "ffd1a2e2-f850-4baf-d6ce-a6c5213b3638"
      },
      "source": [
        "plt.figure(figsize=(8,8))\n",
        "\n",
        "labels = [\"squiggle\", \"narrowband\", \"noise\", \"narrowbanddrd\"]\n",
        "\n",
        "ax = plt.subplot()\n",
        "sns.heatmap(metrics.confusion_matrix(y_true, y_pred, normalize='true'), annot=True, ax=ax, cmap=plt.cm.Blues)\n",
        "\n",
        "ax.set_title('Confusion Matrix')\n",
        "ax.xaxis.set_ticklabels(labels)\n",
        "ax.yaxis.set_ticklabels(labels)"
      ],
      "execution_count": null,
      "outputs": [
        {
          "output_type": "execute_result",
          "data": {
            "text/plain": [
              "[Text(0, 0.5, 'squiggle'),\n",
              " Text(0, 1.5, 'narrowband'),\n",
              " Text(0, 2.5, 'noise'),\n",
              " Text(0, 3.5, 'narrowbanddrd')]"
            ]
          },
          "metadata": {
            "tags": []
          },
          "execution_count": 19
        },
        {
          "output_type": "display_data",
          "data": {
            "image/png": "[encoded data removed]",
            "text/plain": [
              "<Figure size 576x576 with 2 Axes>"
            ]
          },
          "metadata": {
            "tags": [],
            "needs_background": "light"
          }
        }
      ]
    },
    {
      "cell_type": "markdown",
      "metadata": {
        "id": "XD9WZksHcYmc",
        "colab_type": "text"
      },
      "source": [
        "## Conclusions\n",
        "\n",
        "Winning submission has used ResNet based architechure (WRN) on primary (full) dataset, and achieved a classification accuracy of 94.99%.\n",
        "Reference: https://github.com/sgrvinod/Wide-Residual-Nets-for-SETI\n",
        "\n",
        "Here we have used a simple CNN based model. The model did not learn much after the first 2 epochs (accuracy is around 74% after 10 epochs).\n",
        "\n",
        "Reasons:\n",
        "\n",
        "*   The signals in the dataset have a noise factor added to it.\n",
        "*   Even though the dataset, we have used here, is simpler than the other datasets provided by SETI, it's a bit challenging to extract features using a simple model like ours. So it is essentially a underfitting problem.\n",
        "\n",
        "Possible improvements:\n",
        "\n",
        "* Add additional CNN blocks, change filter sizes (e.g. 7x7, 5x5 etc.) to learn more features.\n",
        "* Add additional fully connected layers.\n",
        "* Here we have used Adam optimizer. It has convergence issues. We can change it SGD, and see what happens.\n",
        "* Use a different architechture altogether.\n",
        "\n",
        "\n",
        "\n"
      ]
    }
  ]
}